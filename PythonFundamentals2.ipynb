{
  "nbformat": 4,
  "nbformat_minor": 0,
  "metadata": {
    "colab": {
      "name": "PythonFundamentals2.ipynb",
      "provenance": [],
      "collapsed_sections": [],
      "authorship_tag": "ABX9TyOFbgwNil1zW3QBfcz2H+UE",
      "include_colab_link": true
    },
    "kernelspec": {
      "name": "python3",
      "display_name": "Python 3"
    }
  },
  "cells": [
    {
      "cell_type": "markdown",
      "metadata": {
        "id": "view-in-github",
        "colab_type": "text"
      },
      "source": [
        "<a href=\"https://colab.research.google.com/github/Asingh1248/Python-DataScience/blob/master/PythonFundamentals2.ipynb\" target=\"_parent\"><img src=\"https://colab.research.google.com/assets/colab-badge.svg\" alt=\"Open In Colab\"/></a>"
      ]
    },
    {
      "cell_type": "code",
      "metadata": {
        "id": "CICrG3nkcnFB",
        "colab_type": "code",
        "colab": {}
      },
      "source": [
        "# Creating userd defined function\n",
        "\n",
        "def greeting(name='Mark'):\n",
        "  print('Good Morning '+name)"
      ],
      "execution_count": null,
      "outputs": []
    },
    {
      "cell_type": "code",
      "metadata": {
        "id": "ma9-N6J0dErb",
        "colab_type": "code",
        "colab": {
          "base_uri": "https://localhost:8080/",
          "height": 34
        },
        "outputId": "93970bd9-5845-44f6-a1a1-2d58f517b0d1"
      },
      "source": [
        "greeting('Animesh')"
      ],
      "execution_count": null,
      "outputs": [
        {
          "output_type": "stream",
          "text": [
            "Good Morning Animesh\n"
          ],
          "name": "stdout"
        }
      ]
    },
    {
      "cell_type": "code",
      "metadata": {
        "id": "ehpIzBFsdkKK",
        "colab_type": "code",
        "colab": {}
      },
      "source": [
        "# define doc string (info about the function )to the function"
      ],
      "execution_count": null,
      "outputs": []
    },
    {
      "cell_type": "code",
      "metadata": {
        "id": "rB8TrRk7draC",
        "colab_type": "code",
        "colab": {}
      },
      "source": [
        "def my_func():\n",
        "\n",
        "  \"\"\"\n",
        "  Created by : animesh\n",
        "  Input no : No\n",
        "  Output : Hello World\n",
        "  \"\"\"\n",
        "  print('Hello World')"
      ],
      "execution_count": null,
      "outputs": []
    },
    {
      "cell_type": "code",
      "metadata": {
        "id": "feqJb48ud6R5",
        "colab_type": "code",
        "colab": {
          "base_uri": "https://localhost:8080/",
          "height": 136
        },
        "outputId": "2b7ad055-ba44-4f0a-f9a1-87d7b11b2fda"
      },
      "source": [
        "help(my_func)"
      ],
      "execution_count": null,
      "outputs": [
        {
          "output_type": "stream",
          "text": [
            "Help on function my_func in module __main__:\n",
            "\n",
            "my_func()\n",
            "    Created by : animesh\n",
            "    Input no : No\n",
            "    Output : Hello World\n",
            "\n"
          ],
          "name": "stdout"
        }
      ]
    },
    {
      "cell_type": "code",
      "metadata": {
        "id": "oB0Pg4qveF9R",
        "colab_type": "code",
        "colab": {}
      },
      "source": [
        "# appned () used with list to add dynamic values"
      ],
      "execution_count": null,
      "outputs": []
    },
    {
      "cell_type": "markdown",
      "metadata": {
        "id": "FlWp8IF7eUC4",
        "colab_type": "text"
      },
      "source": [
        "# Function with *args and **kwargs"
      ]
    },
    {
      "cell_type": "code",
      "metadata": {
        "id": "xZoAswNxebtJ",
        "colab_type": "code",
        "colab": {}
      },
      "source": [
        "# When to use *args "
      ],
      "execution_count": null,
      "outputs": []
    },
    {
      "cell_type": "code",
      "metadata": {
        "id": "RMqnWsjkeoNg",
        "colab_type": "code",
        "colab": {}
      },
      "source": [
        "def my_func(a,b,c=0,d=0):\n",
        "  return sum((a,b,c,d))  # sum expect 2 arguments "
      ],
      "execution_count": null,
      "outputs": []
    },
    {
      "cell_type": "code",
      "metadata": {
        "id": "KluRkVvye1e4",
        "colab_type": "code",
        "colab": {
          "base_uri": "https://localhost:8080/",
          "height": 34
        },
        "outputId": "5fdcf755-67c6-4afe-dd7f-460d29afeb06"
      },
      "source": [
        "my_func(30,50,60) # again again giving static argument wo'nt help"
      ],
      "execution_count": null,
      "outputs": [
        {
          "output_type": "execute_result",
          "data": {
            "text/plain": [
              "140"
            ]
          },
          "metadata": {
            "tags": []
          },
          "execution_count": 10
        }
      ]
    },
    {
      "cell_type": "code",
      "metadata": {
        "id": "dUDBxW6VfIjn",
        "colab_type": "code",
        "colab": {}
      },
      "source": [
        "def my_func(*args):  # Dynamic arguments\n",
        "  return sum(args)"
      ],
      "execution_count": null,
      "outputs": []
    },
    {
      "cell_type": "code",
      "metadata": {
        "id": "vie0fHHWfdyP",
        "colab_type": "code",
        "colab": {
          "base_uri": "https://localhost:8080/",
          "height": 34
        },
        "outputId": "434f18d9-c3b3-4280-8a4d-abad432c2b96"
      },
      "source": [
        "my_func(10,20,50,80)"
      ],
      "execution_count": null,
      "outputs": [
        {
          "output_type": "execute_result",
          "data": {
            "text/plain": [
              "160"
            ]
          },
          "metadata": {
            "tags": []
          },
          "execution_count": 12
        }
      ]
    },
    {
      "cell_type": "code",
      "metadata": {
        "id": "qy4SRpW-frfQ",
        "colab_type": "code",
        "colab": {}
      },
      "source": [
        "#kwargs"
      ],
      "execution_count": null,
      "outputs": []
    },
    {
      "cell_type": "code",
      "metadata": {
        "id": "U7YIVjHHftBf",
        "colab_type": "code",
        "colab": {}
      },
      "source": [
        "def new_function(**kwargs):\n",
        "  print(kwargs)  # its in form of dict\n",
        "  if 'flower' in kwargs:\n",
        "    print('We have {} for you !'.format(kwargs['flower']))\n",
        "  else:\n",
        "    print('No flowers for you')"
      ],
      "execution_count": null,
      "outputs": []
    },
    {
      "cell_type": "code",
      "metadata": {
        "id": "FtutoknggM_X",
        "colab_type": "code",
        "colab": {
          "base_uri": "https://localhost:8080/",
          "height": 51
        },
        "outputId": "0d047819-a4f5-48ac-841d-263c2ec25864"
      },
      "source": [
        "new_function(flower='Rose',fruit='Apple')"
      ],
      "execution_count": null,
      "outputs": [
        {
          "output_type": "stream",
          "text": [
            "{'flower': 'Rose', 'fruit': 'Apple'}\n",
            "We have Rose for you !\n"
          ],
          "name": "stdout"
        }
      ]
    },
    {
      "cell_type": "code",
      "metadata": {
        "id": "JBEIcScxgkRG",
        "colab_type": "code",
        "colab": {}
      },
      "source": [
        "# map Today its also clear (Java  collect)(When we have function and list and we want it to implement on ecach element of it ) ,"
      ],
      "execution_count": null,
      "outputs": []
    },
    {
      "cell_type": "code",
      "metadata": {
        "id": "Xc-rQPIggqek",
        "colab_type": "code",
        "colab": {}
      },
      "source": [
        "def cal_sq(n):\n",
        "  return n*n"
      ],
      "execution_count": null,
      "outputs": []
    },
    {
      "cell_type": "code",
      "metadata": {
        "id": "YrP9GImXgv1e",
        "colab_type": "code",
        "colab": {}
      },
      "source": [
        "cal_sq(8)"
      ],
      "execution_count": null,
      "outputs": []
    },
    {
      "cell_type": "code",
      "metadata": {
        "id": "rhi298H_g0qm",
        "colab_type": "code",
        "colab": {}
      },
      "source": [
        "l=[1,2,3,4,5]"
      ],
      "execution_count": null,
      "outputs": []
    },
    {
      "cell_type": "code",
      "metadata": {
        "id": "BeBQmo6ig3SN",
        "colab_type": "code",
        "colab": {
          "base_uri": "https://localhost:8080/",
          "height": 34
        },
        "outputId": "9e427abf-ac9a-4715-fe84-c2729b912f3e"
      },
      "source": [
        "map(cal_sq,l)"
      ],
      "execution_count": null,
      "outputs": [
        {
          "output_type": "execute_result",
          "data": {
            "text/plain": [
              "<map at 0x7f9d87d8ecf8>"
            ]
          },
          "metadata": {
            "tags": []
          },
          "execution_count": 21
        }
      ]
    },
    {
      "cell_type": "code",
      "metadata": {
        "id": "zXI5ZIHJg-oV",
        "colab_type": "code",
        "colab": {}
      },
      "source": [
        "for items in map(cal_sq,l):\n",
        "  print(items) # V.Imp Successfully map this function to this list"
      ],
      "execution_count": null,
      "outputs": []
    },
    {
      "cell_type": "code",
      "metadata": {
        "id": "D7ryowgnhSA3",
        "colab_type": "code",
        "colab": {}
      },
      "source": [
        "list(map(cal_sq,l))"
      ],
      "execution_count": null,
      "outputs": []
    },
    {
      "cell_type": "code",
      "metadata": {
        "id": "0k0z2f_4g7TE",
        "colab_type": "code",
        "colab": {}
      },
      "source": [
        "# do one of the string logic with yourself"
      ],
      "execution_count": null,
      "outputs": []
    },
    {
      "cell_type": "code",
      "metadata": {
        "id": "MNWXH2_OhsIB",
        "colab_type": "code",
        "colab": {}
      },
      "source": [
        "# filter (We are filtering the items in list as per this function )"
      ],
      "execution_count": null,
      "outputs": []
    },
    {
      "cell_type": "code",
      "metadata": {
        "id": "QKgpgjUnhujl",
        "colab_type": "code",
        "colab": {}
      },
      "source": [
        "def check_even(n):\n",
        "  return n%2==0"
      ],
      "execution_count": null,
      "outputs": []
    },
    {
      "cell_type": "code",
      "metadata": {
        "id": "gfaSRLH9h2p6",
        "colab_type": "code",
        "colab": {
          "base_uri": "https://localhost:8080/",
          "height": 34
        },
        "outputId": "5a27c480-03eb-4584-c83f-26f368cb8c3c"
      },
      "source": [
        "check_even(10)"
      ],
      "execution_count": null,
      "outputs": [
        {
          "output_type": "execute_result",
          "data": {
            "text/plain": [
              "True"
            ]
          },
          "metadata": {
            "tags": []
          },
          "execution_count": 25
        }
      ]
    },
    {
      "cell_type": "code",
      "metadata": {
        "id": "A1EfRQxyh5Uc",
        "colab_type": "code",
        "colab": {}
      },
      "source": [
        "num=[1,2,3,4,5]"
      ],
      "execution_count": null,
      "outputs": []
    },
    {
      "cell_type": "code",
      "metadata": {
        "id": "w9K2kspIh7Zh",
        "colab_type": "code",
        "colab": {}
      },
      "source": [
        "for items in filter(check_even,num):\n",
        "  print(items)"
      ],
      "execution_count": null,
      "outputs": []
    },
    {
      "cell_type": "code",
      "metadata": {
        "id": "FgCB4GWDiIRK",
        "colab_type": "code",
        "colab": {}
      },
      "source": [
        "list(filter(check_even,num))"
      ],
      "execution_count": null,
      "outputs": []
    },
    {
      "cell_type": "code",
      "metadata": {
        "id": "rFDo7ZRqiULM",
        "colab_type": "code",
        "colab": {}
      },
      "source": [
        "# lambda function "
      ],
      "execution_count": null,
      "outputs": []
    },
    {
      "cell_type": "code",
      "metadata": {
        "id": "SyeUUhNEiXQz",
        "colab_type": "code",
        "colab": {}
      },
      "source": [
        "def cal_sq(n): return n*n #Step 1 : convert thr function in one liner "
      ],
      "execution_count": null,
      "outputs": []
    },
    {
      "cell_type": "code",
      "metadata": {
        "id": "9uCkK_Ziibrj",
        "colab_type": "code",
        "colab": {
          "base_uri": "https://localhost:8080/",
          "height": 34
        },
        "outputId": "5de8e1d7-cbc5-42b9-b53b-edf72f11f370"
      },
      "source": [
        "cal_sq(8)"
      ],
      "execution_count": null,
      "outputs": [
        {
          "output_type": "execute_result",
          "data": {
            "text/plain": [
              "64"
            ]
          },
          "metadata": {
            "tags": []
          },
          "execution_count": 30
        }
      ]
    },
    {
      "cell_type": "code",
      "metadata": {
        "id": "Lam9pDJUiemS",
        "colab_type": "code",
        "colab": {}
      },
      "source": [
        "# Step 2 . Delete def and return keyword Step 3. add lamda keyword"
      ],
      "execution_count": null,
      "outputs": []
    },
    {
      "cell_type": "code",
      "metadata": {
        "id": "nv3CoHpeimeS",
        "colab_type": "code",
        "colab": {}
      },
      "source": [
        "cal_sq = lambda n : n*n"
      ],
      "execution_count": null,
      "outputs": []
    },
    {
      "cell_type": "code",
      "metadata": {
        "id": "-PbX1jI-itp-",
        "colab_type": "code",
        "colab": {
          "base_uri": "https://localhost:8080/",
          "height": 34
        },
        "outputId": "471ac340-a37c-40c4-e7df-14a6adfac20f"
      },
      "source": [
        "cal_sq(10)"
      ],
      "execution_count": null,
      "outputs": [
        {
          "output_type": "execute_result",
          "data": {
            "text/plain": [
              "100"
            ]
          },
          "metadata": {
            "tags": []
          },
          "execution_count": 32
        }
      ]
    },
    {
      "cell_type": "code",
      "metadata": {
        "id": "xSDMDN-Ni29q",
        "colab_type": "code",
        "colab": {}
      },
      "source": [
        "list(map(cal_sq,l))"
      ],
      "execution_count": null,
      "outputs": []
    },
    {
      "cell_type": "code",
      "metadata": {
        "id": "Wt6O8dd0jJfB",
        "colab_type": "code",
        "colab": {}
      },
      "source": [
        "l=[1,2,3,4,5]"
      ],
      "execution_count": null,
      "outputs": []
    },
    {
      "cell_type": "code",
      "metadata": {
        "id": "BLShQJC4i-9_",
        "colab_type": "code",
        "colab": {
          "base_uri": "https://localhost:8080/",
          "height": 34
        },
        "outputId": "ee293e9f-d419-4b5f-f258-9252c508035a"
      },
      "source": [
        "list(map(lambda n : n*n,l))  # Removing the function defination and short hand code "
      ],
      "execution_count": null,
      "outputs": [
        {
          "output_type": "execute_result",
          "data": {
            "text/plain": [
              "[1, 4, 9, 16, 25]"
            ]
          },
          "metadata": {
            "tags": []
          },
          "execution_count": 35
        }
      ]
    },
    {
      "cell_type": "code",
      "metadata": {
        "id": "7oTiB_1zjRNX",
        "colab_type": "code",
        "colab": {}
      },
      "source": [
        "# Try lamda with filter"
      ],
      "execution_count": null,
      "outputs": []
    },
    {
      "cell_type": "code",
      "metadata": {
        "id": "fE-k0SXBjkUX",
        "colab_type": "code",
        "colab": {}
      },
      "source": [
        ""
      ],
      "execution_count": null,
      "outputs": []
    },
    {
      "cell_type": "markdown",
      "metadata": {
        "id": "3iyEnhyvkBOA",
        "colab_type": "text"
      },
      "source": [
        "# OOPS"
      ]
    },
    {
      "cell_type": "code",
      "metadata": {
        "id": "9Tb6kW2QkGMq",
        "colab_type": "code",
        "colab": {}
      },
      "source": [
        "class Person(): \n",
        "  home ='Earth'  # Class Object attribute\n",
        "  def __init__(self,name,age):\n",
        "    self.name=name\n",
        "    self.age=age"
      ],
      "execution_count": null,
      "outputs": []
    },
    {
      "cell_type": "code",
      "metadata": {
        "id": "PKw-XYqEkTRA",
        "colab_type": "code",
        "colab": {}
      },
      "source": [
        "p2 = Person('Animesh',23)"
      ],
      "execution_count": null,
      "outputs": []
    },
    {
      "cell_type": "code",
      "metadata": {
        "id": "juKM76c4kXQz",
        "colab_type": "code",
        "colab": {
          "base_uri": "https://localhost:8080/",
          "height": 35
        },
        "outputId": "f45156c3-a4c2-47d9-fe49-7c1745e54433"
      },
      "source": [
        "p2.home  #Available by defalut "
      ],
      "execution_count": null,
      "outputs": [
        {
          "output_type": "execute_result",
          "data": {
            "application/vnd.google.colaboratory.intrinsic": {
              "type": "string"
            },
            "text/plain": [
              "'Earth'"
            ]
          },
          "metadata": {
            "tags": []
          },
          "execution_count": 38
        }
      ]
    },
    {
      "cell_type": "code",
      "metadata": {
        "id": "I4XwE6RCkb3U",
        "colab_type": "code",
        "colab": {}
      },
      "source": [
        "# list and tuple are class built in class ... User defined class"
      ],
      "execution_count": null,
      "outputs": []
    },
    {
      "cell_type": "code",
      "metadata": {
        "id": "CC8APKi2krY1",
        "colab_type": "code",
        "colab": {}
      },
      "source": [
        "# Methods "
      ],
      "execution_count": null,
      "outputs": []
    },
    {
      "cell_type": "code",
      "metadata": {
        "id": "qDvzFX3Gktj-",
        "colab_type": "code",
        "colab": {}
      },
      "source": [
        "class Person(): \n",
        "  home ='Earth'  # Class Object attribute\n",
        "  def __init__(self,name,age):\n",
        "    self.name=name\n",
        "    self.age=age\n",
        "  def intro(self):\n",
        "    print('Good Morning , my name is {} and i am {}'.format(self.name,self.age))\n",
        "    "
      ],
      "execution_count": null,
      "outputs": []
    },
    {
      "cell_type": "code",
      "metadata": {
        "id": "PJftoeoIk_8N",
        "colab_type": "code",
        "colab": {}
      },
      "source": [
        "p3 = Person('Animesh',24)"
      ],
      "execution_count": null,
      "outputs": []
    },
    {
      "cell_type": "code",
      "metadata": {
        "id": "22Fi8MMAlEOg",
        "colab_type": "code",
        "colab": {
          "base_uri": "https://localhost:8080/",
          "height": 34
        },
        "outputId": "c5874be4-adfb-4d06-f7d1-900fc6140190"
      },
      "source": [
        "p3.age\n",
        "\n"
      ],
      "execution_count": null,
      "outputs": [
        {
          "output_type": "execute_result",
          "data": {
            "text/plain": [
              "24"
            ]
          },
          "metadata": {
            "tags": []
          },
          "execution_count": 45
        }
      ]
    },
    {
      "cell_type": "code",
      "metadata": {
        "id": "Fb-zPaznlOeq",
        "colab_type": "code",
        "colab": {
          "base_uri": "https://localhost:8080/",
          "height": 34
        },
        "outputId": "38385e50-bb64-4fcd-9f8a-0e460bd2b8bc"
      },
      "source": [
        "p3.intro()"
      ],
      "execution_count": null,
      "outputs": [
        {
          "output_type": "stream",
          "text": [
            "Good Morning , my name is Animesh and i am 24\n"
          ],
          "name": "stdout"
        }
      ]
    },
    {
      "cell_type": "code",
      "metadata": {
        "id": "mLhc4vh_lYpm",
        "colab_type": "code",
        "colab": {}
      },
      "source": [
        "# Inheritance"
      ],
      "execution_count": null,
      "outputs": []
    }
  ]
}